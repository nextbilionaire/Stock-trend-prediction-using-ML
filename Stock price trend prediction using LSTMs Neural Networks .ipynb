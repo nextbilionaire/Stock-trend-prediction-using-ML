{
 "cells": [
  {
   "cell_type": "markdown",
   "id": "acf8cff9",
   "metadata": {},
   "source": [
    "# STOCK PRICE TREND PREDICTION WITH LSTMs ML MODEL."
   ]
  },
  {
   "cell_type": "markdown",
   "id": "b410bf78",
   "metadata": {},
   "source": [
    "#### Importing the necessary tools and libraries."
   ]
  },
  {
   "cell_type": "code",
   "execution_count": 1,
   "id": "0c013518",
   "metadata": {},
   "outputs": [],
   "source": [
    "import pandas as pd\n",
    "import numpy as np\n",
    "import matplotlib.pyplot as plt\n",
    "import seaborn as sns\n",
    "import datetime\n",
    "from pandas_datareader import data\n",
    "import urllib.request, json\n",
    "import os\n",
    "import tensorflow as tf\n",
    "from sklearn.preprocessing import MinMaxScaler\n",
    "from tensorflow.keras.models import Sequential\n",
    "from tensorflow.keras.optimizers import Adam\n",
    "from tensorflow.keras import layers"
   ]
  },
  {
   "cell_type": "code",
   "execution_count": 2,
   "id": "dad81069",
   "metadata": {},
   "outputs": [],
   "source": [
    "# Loading the dataset\n",
    "df=pd.read_csv('C:/Users/peter/Data Science/Stock Price Prediction Model/MSFT.csv')"
   ]
  },
  {
   "cell_type": "markdown",
   "id": "75a12359",
   "metadata": {},
   "source": [
    "#### Dataset audition- getting familiar with the dataset."
   ]
  },
  {
   "cell_type": "code",
   "execution_count": 3,
   "id": "d5841d48",
   "metadata": {},
   "outputs": [
    {
     "data": {
      "text/html": [
       "<div>\n",
       "<style scoped>\n",
       "    .dataframe tbody tr th:only-of-type {\n",
       "        vertical-align: middle;\n",
       "    }\n",
       "\n",
       "    .dataframe tbody tr th {\n",
       "        vertical-align: top;\n",
       "    }\n",
       "\n",
       "    .dataframe thead th {\n",
       "        text-align: right;\n",
       "    }\n",
       "</style>\n",
       "<table border=\"1\" class=\"dataframe\">\n",
       "  <thead>\n",
       "    <tr style=\"text-align: right;\">\n",
       "      <th></th>\n",
       "      <th>Date</th>\n",
       "      <th>Open</th>\n",
       "      <th>High</th>\n",
       "      <th>Low</th>\n",
       "      <th>Close</th>\n",
       "      <th>Adj Close</th>\n",
       "      <th>Volume</th>\n",
       "    </tr>\n",
       "  </thead>\n",
       "  <tbody>\n",
       "    <tr>\n",
       "      <th>0</th>\n",
       "      <td>1986-03-13</td>\n",
       "      <td>0.088542</td>\n",
       "      <td>0.101563</td>\n",
       "      <td>0.088542</td>\n",
       "      <td>0.097222</td>\n",
       "      <td>0.061109</td>\n",
       "      <td>1031788800</td>\n",
       "    </tr>\n",
       "    <tr>\n",
       "      <th>1</th>\n",
       "      <td>1986-03-14</td>\n",
       "      <td>0.097222</td>\n",
       "      <td>0.102431</td>\n",
       "      <td>0.097222</td>\n",
       "      <td>0.100694</td>\n",
       "      <td>0.063292</td>\n",
       "      <td>308160000</td>\n",
       "    </tr>\n",
       "    <tr>\n",
       "      <th>2</th>\n",
       "      <td>1986-03-17</td>\n",
       "      <td>0.100694</td>\n",
       "      <td>0.103299</td>\n",
       "      <td>0.100694</td>\n",
       "      <td>0.102431</td>\n",
       "      <td>0.064383</td>\n",
       "      <td>133171200</td>\n",
       "    </tr>\n",
       "    <tr>\n",
       "      <th>3</th>\n",
       "      <td>1986-03-18</td>\n",
       "      <td>0.102431</td>\n",
       "      <td>0.103299</td>\n",
       "      <td>0.098958</td>\n",
       "      <td>0.099826</td>\n",
       "      <td>0.062746</td>\n",
       "      <td>67766400</td>\n",
       "    </tr>\n",
       "    <tr>\n",
       "      <th>4</th>\n",
       "      <td>1986-03-19</td>\n",
       "      <td>0.099826</td>\n",
       "      <td>0.100694</td>\n",
       "      <td>0.097222</td>\n",
       "      <td>0.098090</td>\n",
       "      <td>0.061655</td>\n",
       "      <td>47894400</td>\n",
       "    </tr>\n",
       "  </tbody>\n",
       "</table>\n",
       "</div>"
      ],
      "text/plain": [
       "         Date      Open      High       Low     Close  Adj Close      Volume\n",
       "0  1986-03-13  0.088542  0.101563  0.088542  0.097222   0.061109  1031788800\n",
       "1  1986-03-14  0.097222  0.102431  0.097222  0.100694   0.063292   308160000\n",
       "2  1986-03-17  0.100694  0.103299  0.100694  0.102431   0.064383   133171200\n",
       "3  1986-03-18  0.102431  0.103299  0.098958  0.099826   0.062746    67766400\n",
       "4  1986-03-19  0.099826  0.100694  0.097222  0.098090   0.061655    47894400"
      ]
     },
     "execution_count": 3,
     "metadata": {},
     "output_type": "execute_result"
    }
   ],
   "source": [
    "# first five rows of the dataset\n",
    "df.head()"
   ]
  },
  {
   "cell_type": "code",
   "execution_count": 4,
   "id": "0e8edd18",
   "metadata": {},
   "outputs": [
    {
     "data": {
      "text/html": [
       "<div>\n",
       "<style scoped>\n",
       "    .dataframe tbody tr th:only-of-type {\n",
       "        vertical-align: middle;\n",
       "    }\n",
       "\n",
       "    .dataframe tbody tr th {\n",
       "        vertical-align: top;\n",
       "    }\n",
       "\n",
       "    .dataframe thead th {\n",
       "        text-align: right;\n",
       "    }\n",
       "</style>\n",
       "<table border=\"1\" class=\"dataframe\">\n",
       "  <thead>\n",
       "    <tr style=\"text-align: right;\">\n",
       "      <th></th>\n",
       "      <th>Date</th>\n",
       "      <th>Open</th>\n",
       "      <th>High</th>\n",
       "      <th>Low</th>\n",
       "      <th>Close</th>\n",
       "      <th>Adj Close</th>\n",
       "      <th>Volume</th>\n",
       "    </tr>\n",
       "  </thead>\n",
       "  <tbody>\n",
       "    <tr>\n",
       "      <th>9166</th>\n",
       "      <td>2022-07-26</td>\n",
       "      <td>259.859985</td>\n",
       "      <td>259.880005</td>\n",
       "      <td>249.570007</td>\n",
       "      <td>251.899994</td>\n",
       "      <td>251.899994</td>\n",
       "      <td>39348000</td>\n",
       "    </tr>\n",
       "    <tr>\n",
       "      <th>9167</th>\n",
       "      <td>2022-07-27</td>\n",
       "      <td>261.160004</td>\n",
       "      <td>270.049988</td>\n",
       "      <td>258.850006</td>\n",
       "      <td>268.739990</td>\n",
       "      <td>268.739990</td>\n",
       "      <td>45994000</td>\n",
       "    </tr>\n",
       "    <tr>\n",
       "      <th>9168</th>\n",
       "      <td>2022-07-28</td>\n",
       "      <td>269.750000</td>\n",
       "      <td>277.839996</td>\n",
       "      <td>267.869995</td>\n",
       "      <td>276.410004</td>\n",
       "      <td>276.410004</td>\n",
       "      <td>33459300</td>\n",
       "    </tr>\n",
       "    <tr>\n",
       "      <th>9169</th>\n",
       "      <td>2022-07-29</td>\n",
       "      <td>277.700012</td>\n",
       "      <td>282.000000</td>\n",
       "      <td>276.630005</td>\n",
       "      <td>280.739990</td>\n",
       "      <td>280.739990</td>\n",
       "      <td>32129400</td>\n",
       "    </tr>\n",
       "    <tr>\n",
       "      <th>9170</th>\n",
       "      <td>2022-08-01</td>\n",
       "      <td>277.820007</td>\n",
       "      <td>281.279999</td>\n",
       "      <td>275.839996</td>\n",
       "      <td>278.010010</td>\n",
       "      <td>278.010010</td>\n",
       "      <td>21527300</td>\n",
       "    </tr>\n",
       "  </tbody>\n",
       "</table>\n",
       "</div>"
      ],
      "text/plain": [
       "            Date        Open        High         Low       Close   Adj Close  \\\n",
       "9166  2022-07-26  259.859985  259.880005  249.570007  251.899994  251.899994   \n",
       "9167  2022-07-27  261.160004  270.049988  258.850006  268.739990  268.739990   \n",
       "9168  2022-07-28  269.750000  277.839996  267.869995  276.410004  276.410004   \n",
       "9169  2022-07-29  277.700012  282.000000  276.630005  280.739990  280.739990   \n",
       "9170  2022-08-01  277.820007  281.279999  275.839996  278.010010  278.010010   \n",
       "\n",
       "        Volume  \n",
       "9166  39348000  \n",
       "9167  45994000  \n",
       "9168  33459300  \n",
       "9169  32129400  \n",
       "9170  21527300  "
      ]
     },
     "execution_count": 4,
     "metadata": {},
     "output_type": "execute_result"
    }
   ],
   "source": [
    "# Last five rows of the dataset.\n",
    "df.tail()"
   ]
  },
  {
   "cell_type": "code",
   "execution_count": 5,
   "id": "000916d9",
   "metadata": {},
   "outputs": [
    {
     "data": {
      "text/plain": [
       "(9171, 7)"
      ]
     },
     "execution_count": 5,
     "metadata": {},
     "output_type": "execute_result"
    }
   ],
   "source": [
    "# Number of columns and rows in the dataset\n",
    "df.shape"
   ]
  },
  {
   "cell_type": "code",
   "execution_count": 6,
   "id": "e202496f",
   "metadata": {},
   "outputs": [
    {
     "data": {
      "text/plain": [
       "Index(['Date', 'Open', 'High', 'Low', 'Close', 'Adj Close', 'Volume'], dtype='object')"
      ]
     },
     "execution_count": 6,
     "metadata": {},
     "output_type": "execute_result"
    }
   ],
   "source": [
    "# The columns available in the dataset\n",
    "df.columns"
   ]
  },
  {
   "cell_type": "code",
   "execution_count": 7,
   "id": "80825f80",
   "metadata": {},
   "outputs": [
    {
     "name": "stdout",
     "output_type": "stream",
     "text": [
      "<class 'pandas.core.frame.DataFrame'>\n",
      "RangeIndex: 9171 entries, 0 to 9170\n",
      "Data columns (total 7 columns):\n",
      " #   Column     Non-Null Count  Dtype  \n",
      "---  ------     --------------  -----  \n",
      " 0   Date       9171 non-null   object \n",
      " 1   Open       9171 non-null   float64\n",
      " 2   High       9171 non-null   float64\n",
      " 3   Low        9171 non-null   float64\n",
      " 4   Close      9171 non-null   float64\n",
      " 5   Adj Close  9171 non-null   float64\n",
      " 6   Volume     9171 non-null   int64  \n",
      "dtypes: float64(5), int64(1), object(1)\n",
      "memory usage: 501.7+ KB\n"
     ]
    }
   ],
   "source": [
    "# Data summary for the dataset\n",
    "df.info()"
   ]
  },
  {
   "cell_type": "markdown",
   "id": "b4abe2c2",
   "metadata": {},
   "source": [
    "#### Descriptive statistics for the dataset."
   ]
  },
  {
   "cell_type": "code",
   "execution_count": 8,
   "id": "fed2d35a",
   "metadata": {},
   "outputs": [
    {
     "data": {
      "text/html": [
       "<div>\n",
       "<style scoped>\n",
       "    .dataframe tbody tr th:only-of-type {\n",
       "        vertical-align: middle;\n",
       "    }\n",
       "\n",
       "    .dataframe tbody tr th {\n",
       "        vertical-align: top;\n",
       "    }\n",
       "\n",
       "    .dataframe thead th {\n",
       "        text-align: right;\n",
       "    }\n",
       "</style>\n",
       "<table border=\"1\" class=\"dataframe\">\n",
       "  <thead>\n",
       "    <tr style=\"text-align: right;\">\n",
       "      <th></th>\n",
       "      <th>Open</th>\n",
       "      <th>High</th>\n",
       "      <th>Low</th>\n",
       "      <th>Close</th>\n",
       "      <th>Adj Close</th>\n",
       "      <th>Volume</th>\n",
       "    </tr>\n",
       "  </thead>\n",
       "  <tbody>\n",
       "    <tr>\n",
       "      <th>count</th>\n",
       "      <td>9171.000000</td>\n",
       "      <td>9171.000000</td>\n",
       "      <td>9171.000000</td>\n",
       "      <td>9171.000000</td>\n",
       "      <td>9171.000000</td>\n",
       "      <td>9.171000e+03</td>\n",
       "    </tr>\n",
       "    <tr>\n",
       "      <th>mean</th>\n",
       "      <td>43.535704</td>\n",
       "      <td>44.001647</td>\n",
       "      <td>43.055195</td>\n",
       "      <td>43.545169</td>\n",
       "      <td>38.415198</td>\n",
       "      <td>5.848036e+07</td>\n",
       "    </tr>\n",
       "    <tr>\n",
       "      <th>std</th>\n",
       "      <td>63.538162</td>\n",
       "      <td>64.180438</td>\n",
       "      <td>62.842807</td>\n",
       "      <td>63.549633</td>\n",
       "      <td>63.841195</td>\n",
       "      <td>3.837422e+07</td>\n",
       "    </tr>\n",
       "    <tr>\n",
       "      <th>min</th>\n",
       "      <td>0.088542</td>\n",
       "      <td>0.092014</td>\n",
       "      <td>0.088542</td>\n",
       "      <td>0.090278</td>\n",
       "      <td>0.056745</td>\n",
       "      <td>2.304000e+06</td>\n",
       "    </tr>\n",
       "    <tr>\n",
       "      <th>25%</th>\n",
       "      <td>4.496094</td>\n",
       "      <td>4.562500</td>\n",
       "      <td>4.445313</td>\n",
       "      <td>4.511719</td>\n",
       "      <td>2.835863</td>\n",
       "      <td>3.432925e+07</td>\n",
       "    </tr>\n",
       "    <tr>\n",
       "      <th>50%</th>\n",
       "      <td>26.900000</td>\n",
       "      <td>27.180000</td>\n",
       "      <td>26.650000</td>\n",
       "      <td>26.910000</td>\n",
       "      <td>18.986191</td>\n",
       "      <td>5.179460e+07</td>\n",
       "    </tr>\n",
       "    <tr>\n",
       "      <th>75%</th>\n",
       "      <td>41.099998</td>\n",
       "      <td>41.555000</td>\n",
       "      <td>40.400002</td>\n",
       "      <td>41.025625</td>\n",
       "      <td>29.836731</td>\n",
       "      <td>7.230240e+07</td>\n",
       "    </tr>\n",
       "    <tr>\n",
       "      <th>max</th>\n",
       "      <td>344.619995</td>\n",
       "      <td>349.670013</td>\n",
       "      <td>342.200012</td>\n",
       "      <td>343.109985</td>\n",
       "      <td>341.606354</td>\n",
       "      <td>1.031789e+09</td>\n",
       "    </tr>\n",
       "  </tbody>\n",
       "</table>\n",
       "</div>"
      ],
      "text/plain": [
       "              Open         High          Low        Close    Adj Close  \\\n",
       "count  9171.000000  9171.000000  9171.000000  9171.000000  9171.000000   \n",
       "mean     43.535704    44.001647    43.055195    43.545169    38.415198   \n",
       "std      63.538162    64.180438    62.842807    63.549633    63.841195   \n",
       "min       0.088542     0.092014     0.088542     0.090278     0.056745   \n",
       "25%       4.496094     4.562500     4.445313     4.511719     2.835863   \n",
       "50%      26.900000    27.180000    26.650000    26.910000    18.986191   \n",
       "75%      41.099998    41.555000    40.400002    41.025625    29.836731   \n",
       "max     344.619995   349.670013   342.200012   343.109985   341.606354   \n",
       "\n",
       "             Volume  \n",
       "count  9.171000e+03  \n",
       "mean   5.848036e+07  \n",
       "std    3.837422e+07  \n",
       "min    2.304000e+06  \n",
       "25%    3.432925e+07  \n",
       "50%    5.179460e+07  \n",
       "75%    7.230240e+07  \n",
       "max    1.031789e+09  "
      ]
     },
     "execution_count": 8,
     "metadata": {},
     "output_type": "execute_result"
    }
   ],
   "source": [
    "# Generating statistical analysis  of the dataset.\n",
    "df.describe()"
   ]
  },
  {
   "cell_type": "markdown",
   "id": "7be02b58",
   "metadata": {},
   "source": [
    "#### Data Cleaning -checking for missing values."
   ]
  },
  {
   "cell_type": "code",
   "execution_count": 9,
   "id": "f0eb7d00",
   "metadata": {},
   "outputs": [
    {
     "data": {
      "text/plain": [
       "Date         0\n",
       "Open         0\n",
       "High         0\n",
       "Low          0\n",
       "Close        0\n",
       "Adj Close    0\n",
       "Volume       0\n",
       "dtype: int64"
      ]
     },
     "execution_count": 9,
     "metadata": {},
     "output_type": "execute_result"
    }
   ],
   "source": [
    "df.isnull().sum()"
   ]
  },
  {
   "cell_type": "code",
   "execution_count": 10,
   "id": "bea4f8d6",
   "metadata": {},
   "outputs": [
    {
     "data": {
      "text/plain": [
       "0"
      ]
     },
     "execution_count": 10,
     "metadata": {},
     "output_type": "execute_result"
    }
   ],
   "source": [
    "# Checking the total number of missing data.\n",
    "df.isnull().sum().sum()"
   ]
  },
  {
   "cell_type": "markdown",
   "id": "3500f14d",
   "metadata": {},
   "source": [
    "#### Data Analysis Process."
   ]
  },
  {
   "cell_type": "code",
   "execution_count": 11,
   "id": "ece3d877",
   "metadata": {},
   "outputs": [
    {
     "data": {
      "text/html": [
       "<div>\n",
       "<style scoped>\n",
       "    .dataframe tbody tr th:only-of-type {\n",
       "        vertical-align: middle;\n",
       "    }\n",
       "\n",
       "    .dataframe tbody tr th {\n",
       "        vertical-align: top;\n",
       "    }\n",
       "\n",
       "    .dataframe thead th {\n",
       "        text-align: right;\n",
       "    }\n",
       "</style>\n",
       "<table border=\"1\" class=\"dataframe\">\n",
       "  <thead>\n",
       "    <tr style=\"text-align: right;\">\n",
       "      <th></th>\n",
       "      <th>Date</th>\n",
       "      <th>Close</th>\n",
       "    </tr>\n",
       "  </thead>\n",
       "  <tbody>\n",
       "    <tr>\n",
       "      <th>0</th>\n",
       "      <td>1986-03-13</td>\n",
       "      <td>0.097222</td>\n",
       "    </tr>\n",
       "    <tr>\n",
       "      <th>1</th>\n",
       "      <td>1986-03-14</td>\n",
       "      <td>0.100694</td>\n",
       "    </tr>\n",
       "    <tr>\n",
       "      <th>2</th>\n",
       "      <td>1986-03-17</td>\n",
       "      <td>0.102431</td>\n",
       "    </tr>\n",
       "    <tr>\n",
       "      <th>3</th>\n",
       "      <td>1986-03-18</td>\n",
       "      <td>0.099826</td>\n",
       "    </tr>\n",
       "    <tr>\n",
       "      <th>4</th>\n",
       "      <td>1986-03-19</td>\n",
       "      <td>0.098090</td>\n",
       "    </tr>\n",
       "    <tr>\n",
       "      <th>...</th>\n",
       "      <td>...</td>\n",
       "      <td>...</td>\n",
       "    </tr>\n",
       "    <tr>\n",
       "      <th>9166</th>\n",
       "      <td>2022-07-26</td>\n",
       "      <td>251.899994</td>\n",
       "    </tr>\n",
       "    <tr>\n",
       "      <th>9167</th>\n",
       "      <td>2022-07-27</td>\n",
       "      <td>268.739990</td>\n",
       "    </tr>\n",
       "    <tr>\n",
       "      <th>9168</th>\n",
       "      <td>2022-07-28</td>\n",
       "      <td>276.410004</td>\n",
       "    </tr>\n",
       "    <tr>\n",
       "      <th>9169</th>\n",
       "      <td>2022-07-29</td>\n",
       "      <td>280.739990</td>\n",
       "    </tr>\n",
       "    <tr>\n",
       "      <th>9170</th>\n",
       "      <td>2022-08-01</td>\n",
       "      <td>278.010010</td>\n",
       "    </tr>\n",
       "  </tbody>\n",
       "</table>\n",
       "<p>9171 rows × 2 columns</p>\n",
       "</div>"
      ],
      "text/plain": [
       "            Date       Close\n",
       "0     1986-03-13    0.097222\n",
       "1     1986-03-14    0.100694\n",
       "2     1986-03-17    0.102431\n",
       "3     1986-03-18    0.099826\n",
       "4     1986-03-19    0.098090\n",
       "...          ...         ...\n",
       "9166  2022-07-26  251.899994\n",
       "9167  2022-07-27  268.739990\n",
       "9168  2022-07-28  276.410004\n",
       "9169  2022-07-29  280.739990\n",
       "9170  2022-08-01  278.010010\n",
       "\n",
       "[9171 rows x 2 columns]"
      ]
     },
     "execution_count": 11,
     "metadata": {},
     "output_type": "execute_result"
    }
   ],
   "source": [
    "# We only need two columns; Date and Close.\n",
    "df=df[['Date','Close']]\n",
    "df"
   ]
  },
  {
   "cell_type": "code",
   "execution_count": 12,
   "id": "d635947c",
   "metadata": {},
   "outputs": [
    {
     "data": {
      "text/plain": [
       "datetime.datetime(2021, 8, 5, 0, 0)"
      ]
     },
     "execution_count": 12,
     "metadata": {},
     "output_type": "execute_result"
    }
   ],
   "source": [
    "# Converting Close from dtype object to datetime\n",
    "def str_to_datetime(s):\n",
    "    split= s.split('-')\n",
    "    year, month, day = int(split[0]), int(split[1]), int(split[2])\n",
    "    return datetime.datetime(year=year, month=month, day=day)\n",
    "\n",
    "datetime_object=str_to_datetime('2021-08-05')\n",
    "datetime_object   "
   ]
  },
  {
   "cell_type": "code",
   "execution_count": 13,
   "id": "36269acb",
   "metadata": {},
   "outputs": [
    {
     "data": {
      "text/plain": [
       "0      1986-03-13\n",
       "1      1986-03-14\n",
       "2      1986-03-17\n",
       "3      1986-03-18\n",
       "4      1986-03-19\n",
       "          ...    \n",
       "9166   2022-07-26\n",
       "9167   2022-07-27\n",
       "9168   2022-07-28\n",
       "9169   2022-07-29\n",
       "9170   2022-08-01\n",
       "Name: Date, Length: 9171, dtype: datetime64[ns]"
      ]
     },
     "execution_count": 13,
     "metadata": {},
     "output_type": "execute_result"
    }
   ],
   "source": [
    "# Applying the datetime function to the entire date column\n",
    "df['Date']=df['Date'].apply(str_to_datetime)\n",
    "df['Date']"
   ]
  },
  {
   "cell_type": "code",
   "execution_count": 14,
   "id": "be5de2cf",
   "metadata": {},
   "outputs": [
    {
     "data": {
      "text/html": [
       "<div>\n",
       "<style scoped>\n",
       "    .dataframe tbody tr th:only-of-type {\n",
       "        vertical-align: middle;\n",
       "    }\n",
       "\n",
       "    .dataframe tbody tr th {\n",
       "        vertical-align: top;\n",
       "    }\n",
       "\n",
       "    .dataframe thead th {\n",
       "        text-align: right;\n",
       "    }\n",
       "</style>\n",
       "<table border=\"1\" class=\"dataframe\">\n",
       "  <thead>\n",
       "    <tr style=\"text-align: right;\">\n",
       "      <th></th>\n",
       "      <th>Close</th>\n",
       "    </tr>\n",
       "    <tr>\n",
       "      <th>Date</th>\n",
       "      <th></th>\n",
       "    </tr>\n",
       "  </thead>\n",
       "  <tbody>\n",
       "    <tr>\n",
       "      <th>1986-03-13</th>\n",
       "      <td>0.097222</td>\n",
       "    </tr>\n",
       "    <tr>\n",
       "      <th>1986-03-14</th>\n",
       "      <td>0.100694</td>\n",
       "    </tr>\n",
       "    <tr>\n",
       "      <th>1986-03-17</th>\n",
       "      <td>0.102431</td>\n",
       "    </tr>\n",
       "    <tr>\n",
       "      <th>1986-03-18</th>\n",
       "      <td>0.099826</td>\n",
       "    </tr>\n",
       "    <tr>\n",
       "      <th>1986-03-19</th>\n",
       "      <td>0.098090</td>\n",
       "    </tr>\n",
       "  </tbody>\n",
       "</table>\n",
       "</div>"
      ],
      "text/plain": [
       "               Close\n",
       "Date                \n",
       "1986-03-13  0.097222\n",
       "1986-03-14  0.100694\n",
       "1986-03-17  0.102431\n",
       "1986-03-18  0.099826\n",
       "1986-03-19  0.098090"
      ]
     },
     "execution_count": 14,
     "metadata": {},
     "output_type": "execute_result"
    }
   ],
   "source": [
    "# Making the Date column be the index column\n",
    "df.index = df.pop('Date')\n",
    "df.head()"
   ]
  },
  {
   "cell_type": "code",
   "execution_count": 15,
   "id": "68366ab0",
   "metadata": {},
   "outputs": [
    {
     "data": {
      "text/plain": [
       "[<matplotlib.lines.Line2D at 0x1c98bc19460>]"
      ]
     },
     "execution_count": 15,
     "metadata": {},
     "output_type": "execute_result"
    },
    {
     "data": {
      "image/png": "[encoded data removed]",
      "text/plain": [
       "<Figure size 432x288 with 1 Axes>"
      ]
     },
     "metadata": {
      "needs_background": "light"
     },
     "output_type": "display_data"
    }
   ],
   "source": [
    "# Checking the graph trend for the data\n",
    "plt.plot(df.index, df['Close'])"
   ]
  },
  {
   "cell_type": "code",
   "execution_count": 16,
   "id": "a29195f1",
   "metadata": {},
   "outputs": [
    {
     "data": {
      "text/html": [
       "<div>\n",
       "<style scoped>\n",
       "    .dataframe tbody tr th:only-of-type {\n",
       "        vertical-align: middle;\n",
       "    }\n",
       "\n",
       "    .dataframe tbody tr th {\n",
       "        vertical-align: top;\n",
       "    }\n",
       "\n",
       "    .dataframe thead th {\n",
       "        text-align: right;\n",
       "    }\n",
       "</style>\n",
       "<table border=\"1\" class=\"dataframe\">\n",
       "  <thead>\n",
       "    <tr style=\"text-align: right;\">\n",
       "      <th></th>\n",
       "      <th>Target Date</th>\n",
       "      <th>Target-3</th>\n",
       "      <th>Target-2</th>\n",
       "      <th>Target-1</th>\n",
       "      <th>Target</th>\n",
       "    </tr>\n",
       "  </thead>\n",
       "  <tbody>\n",
       "    <tr>\n",
       "      <th>0</th>\n",
       "      <td>2021-08-01</td>\n",
       "      <td>286.540009</td>\n",
       "      <td>286.220001</td>\n",
       "      <td>286.500000</td>\n",
       "      <td>284.910004</td>\n",
       "    </tr>\n",
       "    <tr>\n",
       "      <th>1</th>\n",
       "      <td>2021-08-03</td>\n",
       "      <td>286.500000</td>\n",
       "      <td>284.910004</td>\n",
       "      <td>284.820007</td>\n",
       "      <td>287.119995</td>\n",
       "    </tr>\n",
       "    <tr>\n",
       "      <th>2</th>\n",
       "      <td>2021-08-04</td>\n",
       "      <td>284.910004</td>\n",
       "      <td>284.820007</td>\n",
       "      <td>287.119995</td>\n",
       "      <td>286.510010</td>\n",
       "    </tr>\n",
       "    <tr>\n",
       "      <th>3</th>\n",
       "      <td>2021-08-05</td>\n",
       "      <td>284.820007</td>\n",
       "      <td>287.119995</td>\n",
       "      <td>286.510010</td>\n",
       "      <td>289.519989</td>\n",
       "    </tr>\n",
       "    <tr>\n",
       "      <th>4</th>\n",
       "      <td>2021-08-06</td>\n",
       "      <td>287.119995</td>\n",
       "      <td>286.510010</td>\n",
       "      <td>289.519989</td>\n",
       "      <td>289.459991</td>\n",
       "    </tr>\n",
       "    <tr>\n",
       "      <th>...</th>\n",
       "      <td>...</td>\n",
       "      <td>...</td>\n",
       "      <td>...</td>\n",
       "      <td>...</td>\n",
       "      <td>...</td>\n",
       "    </tr>\n",
       "    <tr>\n",
       "      <th>247</th>\n",
       "      <td>2022-07-26</td>\n",
       "      <td>264.839996</td>\n",
       "      <td>260.359985</td>\n",
       "      <td>258.829987</td>\n",
       "      <td>251.899994</td>\n",
       "    </tr>\n",
       "    <tr>\n",
       "      <th>248</th>\n",
       "      <td>2022-07-27</td>\n",
       "      <td>260.359985</td>\n",
       "      <td>258.829987</td>\n",
       "      <td>251.899994</td>\n",
       "      <td>268.739990</td>\n",
       "    </tr>\n",
       "    <tr>\n",
       "      <th>249</th>\n",
       "      <td>2022-07-28</td>\n",
       "      <td>258.829987</td>\n",
       "      <td>251.899994</td>\n",
       "      <td>268.739990</td>\n",
       "      <td>276.410004</td>\n",
       "    </tr>\n",
       "    <tr>\n",
       "      <th>250</th>\n",
       "      <td>2022-07-29</td>\n",
       "      <td>251.899994</td>\n",
       "      <td>268.739990</td>\n",
       "      <td>276.410004</td>\n",
       "      <td>280.739990</td>\n",
       "    </tr>\n",
       "    <tr>\n",
       "      <th>251</th>\n",
       "      <td>2022-08-01</td>\n",
       "      <td>268.739990</td>\n",
       "      <td>276.410004</td>\n",
       "      <td>280.739990</td>\n",
       "      <td>278.010010</td>\n",
       "    </tr>\n",
       "  </tbody>\n",
       "</table>\n",
       "<p>252 rows × 5 columns</p>\n",
       "</div>"
      ],
      "text/plain": [
       "    Target Date    Target-3    Target-2    Target-1      Target\n",
       "0    2021-08-01  286.540009  286.220001  286.500000  284.910004\n",
       "1    2021-08-03  286.500000  284.910004  284.820007  287.119995\n",
       "2    2021-08-04  284.910004  284.820007  287.119995  286.510010\n",
       "3    2021-08-05  284.820007  287.119995  286.510010  289.519989\n",
       "4    2021-08-06  287.119995  286.510010  289.519989  289.459991\n",
       "..          ...         ...         ...         ...         ...\n",
       "247  2022-07-26  264.839996  260.359985  258.829987  251.899994\n",
       "248  2022-07-27  260.359985  258.829987  251.899994  268.739990\n",
       "249  2022-07-28  258.829987  251.899994  268.739990  276.410004\n",
       "250  2022-07-29  251.899994  268.739990  276.410004  280.739990\n",
       "251  2022-08-01  268.739990  276.410004  280.739990  278.010010\n",
       "\n",
       "[252 rows x 5 columns]"
      ]
     },
     "execution_count": 16,
     "metadata": {},
     "output_type": "execute_result"
    }
   ],
   "source": [
    "import numpy as np\n",
    "\n",
    "def df_to_windowed_df(dataframe, first_date_str, last_date_str, n=3):\n",
    "  first_date = str_to_datetime(first_date_str)\n",
    "  last_date  = str_to_datetime(last_date_str)\n",
    "\n",
    "  target_date = first_date\n",
    "  \n",
    "  dates = []\n",
    "  X, Y = [], []\n",
    "\n",
    "  last_time = False\n",
    "  while True:\n",
    "    df_subset = dataframe.loc[:target_date].tail(n+1)\n",
    "    \n",
    "    if len(df_subset) != n+1:\n",
    "      print(f'Error: Window of size {n} is too large for date {target_date}')\n",
    "      return\n",
    "\n",
    "    values = df_subset['Close'].to_numpy()\n",
    "    x, y = values[:-1], values[-1]\n",
    "\n",
    "    dates.append(target_date)\n",
    "    X.append(x)\n",
    "    Y.append(y)\n",
    "\n",
    "    next_week = dataframe.loc[target_date:target_date+datetime.timedelta(days=7)]\n",
    "    next_datetime_str = str(next_week.head(2).tail(1).index.values[0])\n",
    "    next_date_str = next_datetime_str.split('T')[0]\n",
    "    year_month_day = next_date_str.split('-')\n",
    "    year, month, day = year_month_day\n",
    "    next_date = datetime.datetime(day=int(day), month=int(month), year=int(year))\n",
    "    \n",
    "    if last_time:\n",
    "      break\n",
    "    \n",
    "    target_date = next_date\n",
    "\n",
    "    if target_date == last_date:\n",
    "      last_time = True\n",
    "    \n",
    "  ret_df = pd.DataFrame({})\n",
    "  ret_df['Target Date'] = dates\n",
    "  \n",
    "  X = np.array(X)\n",
    "  for i in range(0, n):\n",
    "    X[:, i]\n",
    "    ret_df[f'Target-{n-i}'] = X[:, i]\n",
    "  \n",
    "  ret_df['Target'] = Y\n",
    "\n",
    "  return ret_df\n",
    "\n",
    "# Start day second time around: '2021-03-25'\n",
    "windowed_df = df_to_windowed_df(df, \n",
    "                                '2021-08-01', \n",
    "                                '2022-08-01', \n",
    "                                n=3)\n",
    "windowed_df"
   ]
  },
  {
   "cell_type": "code",
   "execution_count": 17,
   "id": "ab7a095c",
   "metadata": {},
   "outputs": [
    {
     "data": {
      "text/plain": [
       "((252,), (252, 3, 1), (252,))"
      ]
     },
     "execution_count": 17,
     "metadata": {},
     "output_type": "execute_result"
    }
   ],
   "source": [
    "def windowed_df_to_date_X_y(windowed_dataframe):\n",
    "  df_as_np = windowed_dataframe.to_numpy()\n",
    "\n",
    "  dates = df_as_np[:, 0]\n",
    "\n",
    "  middle_matrix = df_as_np[:, 1:-1]\n",
    "  X = middle_matrix.reshape((len(dates), middle_matrix.shape[1], 1))\n",
    "\n",
    "  Y = df_as_np[:, -1]\n",
    "\n",
    "  return dates, X.astype(np.float32), Y.astype(np.float32)\n",
    "\n",
    "dates, X, y = windowed_df_to_date_X_y(windowed_df)\n",
    "\n",
    "dates.shape, X.shape, y.shape"
   ]
  },
  {
   "cell_type": "code",
   "execution_count": 18,
   "id": "52c11360",
   "metadata": {},
   "outputs": [
    {
     "data": {
      "text/plain": [
       "<matplotlib.legend.Legend at 0x1c9b6968700>"
      ]
     },
     "execution_count": 18,
     "metadata": {},
     "output_type": "execute_result"
    },
    {
     "data": {
      "image/png": "[encoded data removed]",
      "text/plain": [
       "<Figure size 432x288 with 1 Axes>"
      ]
     },
     "metadata": {
      "needs_background": "light"
     },
     "output_type": "display_data"
    }
   ],
   "source": [
    "q_80 = int(len(dates) * .8)\n",
    "q_90 = int(len(dates) * .9)\n",
    "\n",
    "dates_train, X_train, y_train = dates[:q_80], X[:q_80], y[:q_80]\n",
    "\n",
    "dates_val, X_val, y_val = dates[q_80:q_90], X[q_80:q_90], y[q_80:q_90]\n",
    "dates_test, X_test, y_test = dates[q_90:], X[q_90:], y[q_90:]\n",
    "\n",
    "plt.plot(dates_train, y_train)\n",
    "plt.plot(dates_val, y_val)\n",
    "plt.plot(dates_test, y_test)\n",
    "\n",
    "plt.legend(['Train', 'Validation', 'Test'])"
   ]
  },
  {
   "cell_type": "code",
   "execution_count": 19,
   "id": "bfae8887",
   "metadata": {},
   "outputs": [
    {
     "name": "stdout",
     "output_type": "stream",
     "text": [
      "Epoch 1/100\n",
      "7/7 [==============================] - 2s 341ms/step - loss: 93104.8750 - mean_absolute_error: 304.4741 - val_loss: 67673.4062 - val_mean_absolute_error: 259.9515\n",
      "Epoch 2/100\n",
      "7/7 [==============================] - 0s 10ms/step - loss: 92891.1016 - mean_absolute_error: 304.1236 - val_loss: 67503.4922 - val_mean_absolute_error: 259.6245\n",
      "Epoch 3/100\n",
      "7/7 [==============================] - 0s 10ms/step - loss: 92661.0078 - mean_absolute_error: 303.7448 - val_loss: 67281.1875 - val_mean_absolute_error: 259.1961\n",
      "Epoch 4/100\n",
      "7/7 [==============================] - 0s 11ms/step - loss: 92393.8125 - mean_absolute_error: 303.3046 - val_loss: 67020.0625 - val_mean_absolute_error: 258.6918\n",
      "Epoch 5/100\n",
      "7/7 [==============================] - 0s 12ms/step - loss: 92037.2812 - mean_absolute_error: 302.7154 - val_loss: 66633.3750 - val_mean_absolute_error: 257.9435\n",
      "Epoch 6/100\n",
      "7/7 [==============================] - 0s 12ms/step - loss: 91552.9922 - mean_absolute_error: 301.9162 - val_loss: 66214.9688 - val_mean_absolute_error: 257.1311\n",
      "Epoch 7/100\n",
      "7/7 [==============================] - 0s 8ms/step - loss: 91039.4688 - mean_absolute_error: 301.0628 - val_loss: 65729.4922 - val_mean_absolute_error: 256.1854\n",
      "Epoch 8/100\n",
      "7/7 [==============================] - 0s 10ms/step - loss: 90426.5938 - mean_absolute_error: 300.0437 - val_loss: 65132.6094 - val_mean_absolute_error: 255.0176\n",
      "Epoch 9/100\n",
      "7/7 [==============================] - 0s 7ms/step - loss: 89661.5234 - mean_absolute_error: 298.7684 - val_loss: 64376.4258 - val_mean_absolute_error: 253.5307\n",
      "Epoch 10/100\n",
      "7/7 [==============================] - 0s 8ms/step - loss: 88708.1797 - mean_absolute_error: 297.1664 - val_loss: 63488.6250 - val_mean_absolute_error: 251.7737\n",
      "Epoch 11/100\n",
      "7/7 [==============================] - 0s 10ms/step - loss: 87600.7578 - mean_absolute_error: 295.2927 - val_loss: 62414.8008 - val_mean_absolute_error: 249.6320\n",
      "Epoch 12/100\n",
      "7/7 [==============================] - 0s 9ms/step - loss: 86208.9141 - mean_absolute_error: 292.9319 - val_loss: 61069.1914 - val_mean_absolute_error: 246.9223\n",
      "Epoch 13/100\n",
      "7/7 [==============================] - 0s 14ms/step - loss: 84563.6484 - mean_absolute_error: 290.1121 - val_loss: 59613.2188 - val_mean_absolute_error: 243.9563\n",
      "Epoch 14/100\n",
      "7/7 [==============================] - 0s 14ms/step - loss: 82749.5391 - mean_absolute_error: 286.9605 - val_loss: 57932.7344 - val_mean_absolute_error: 240.4874\n",
      "Epoch 15/100\n",
      "7/7 [==============================] - 0s 9ms/step - loss: 80657.6016 - mean_absolute_error: 283.2871 - val_loss: 56016.1406 - val_mean_absolute_error: 236.4690\n",
      "Epoch 16/100\n",
      "7/7 [==============================] - 0s 12ms/step - loss: 78270.6875 - mean_absolute_error: 279.0488 - val_loss: 53853.9844 - val_mean_absolute_error: 231.8521\n",
      "Epoch 17/100\n",
      "7/7 [==============================] - 0s 12ms/step - loss: 75579.1016 - mean_absolute_error: 274.1773 - val_loss: 51345.8008 - val_mean_absolute_error: 226.3777\n",
      "Epoch 18/100\n",
      "7/7 [==============================] - 0s 12ms/step - loss: 72348.7031 - mean_absolute_error: 268.2186 - val_loss: 48292.3750 - val_mean_absolute_error: 219.5306\n",
      "Epoch 19/100\n",
      "7/7 [==============================] - 0s 10ms/step - loss: 68561.7734 - mean_absolute_error: 261.0514 - val_loss: 45082.4453 - val_mean_absolute_error: 212.0940\n",
      "Epoch 20/100\n",
      "7/7 [==============================] - 0s 9ms/step - loss: 64640.0312 - mean_absolute_error: 253.4235 - val_loss: 41750.7031 - val_mean_absolute_error: 204.0885\n",
      "Epoch 21/100\n",
      "7/7 [==============================] - 0s 9ms/step - loss: 60418.8203 - mean_absolute_error: 244.9835 - val_loss: 38127.6289 - val_mean_absolute_error: 195.0101\n",
      "Epoch 22/100\n",
      "7/7 [==============================] - 0s 10ms/step - loss: 55855.8750 - mean_absolute_error: 235.4699 - val_loss: 34041.3008 - val_mean_absolute_error: 184.2349\n",
      "Epoch 23/100\n",
      "7/7 [==============================] - 0s 10ms/step - loss: 50571.0156 - mean_absolute_error: 223.9794 - val_loss: 29430.1777 - val_mean_absolute_error: 171.2616\n",
      "Epoch 24/100\n",
      "7/7 [==============================] - 0s 10ms/step - loss: 44349.6875 - mean_absolute_error: 209.6019 - val_loss: 24202.8984 - val_mean_absolute_error: 155.2560\n",
      "Epoch 25/100\n",
      "7/7 [==============================] - 0s 9ms/step - loss: 38030.9648 - mean_absolute_error: 193.9820 - val_loss: 19878.2207 - val_mean_absolute_error: 140.6403\n",
      "Epoch 26/100\n",
      "7/7 [==============================] - 0s 9ms/step - loss: 32534.5605 - mean_absolute_error: 179.1863 - val_loss: 15823.2900 - val_mean_absolute_error: 125.3981\n",
      "Epoch 27/100\n",
      "7/7 [==============================] - 0s 10ms/step - loss: 27219.8965 - mean_absolute_error: 163.7117 - val_loss: 11994.7451 - val_mean_absolute_error: 109.0642\n",
      "Epoch 28/100\n",
      "7/7 [==============================] - 0s 10ms/step - loss: 21912.4160 - mean_absolute_error: 146.5282 - val_loss: 8420.4150 - val_mean_absolute_error: 91.2242\n",
      "Epoch 29/100\n",
      "7/7 [==============================] - 0s 9ms/step - loss: 17099.2969 - mean_absolute_error: 129.1207 - val_loss: 5598.5767 - val_mean_absolute_error: 74.1605\n",
      "Epoch 30/100\n",
      "7/7 [==============================] - 0s 11ms/step - loss: 12880.3682 - mean_absolute_error: 111.6556 - val_loss: 3134.6006 - val_mean_absolute_error: 55.0921\n",
      "Epoch 31/100\n",
      "7/7 [==============================] - 0s 15ms/step - loss: 8987.7451 - mean_absolute_error: 92.4347 - val_loss: 1489.4200 - val_mean_absolute_error: 37.2942\n",
      "Epoch 32/100\n",
      "7/7 [==============================] - 0s 11ms/step - loss: 6067.6294 - mean_absolute_error: 75.3621 - val_loss: 545.5231 - val_mean_absolute_error: 21.1415\n",
      "Epoch 33/100\n",
      "7/7 [==============================] - 0s 10ms/step - loss: 3961.5322 - mean_absolute_error: 59.6377 - val_loss: 137.6134 - val_mean_absolute_error: 9.4235\n",
      "Epoch 34/100\n",
      "7/7 [==============================] - 0s 9ms/step - loss: 2472.6274 - mean_absolute_error: 45.5130 - val_loss: 145.2586 - val_mean_absolute_error: 10.0413\n",
      "Epoch 35/100\n",
      "7/7 [==============================] - 0s 9ms/step - loss: 1521.2133 - mean_absolute_error: 33.6774 - val_loss: 422.7704 - val_mean_absolute_error: 18.0058\n",
      "Epoch 36/100\n",
      "7/7 [==============================] - 0s 10ms/step - loss: 924.6088 - mean_absolute_error: 24.5477 - val_loss: 820.0913 - val_mean_absolute_error: 26.8613\n",
      "Epoch 37/100\n",
      "7/7 [==============================] - 0s 8ms/step - loss: 627.8950 - mean_absolute_error: 19.3270 - val_loss: 1229.1898 - val_mean_absolute_error: 33.6248\n",
      "Epoch 38/100\n",
      "7/7 [==============================] - 0s 9ms/step - loss: 475.9740 - mean_absolute_error: 16.5505 - val_loss: 1559.2863 - val_mean_absolute_error: 38.2194\n",
      "Epoch 39/100\n",
      "7/7 [==============================] - 0s 10ms/step - loss: 423.7910 - mean_absolute_error: 15.8107 - val_loss: 1806.1293 - val_mean_absolute_error: 41.3227\n",
      "Epoch 40/100\n",
      "7/7 [==============================] - 0s 8ms/step - loss: 404.4562 - mean_absolute_error: 15.7909 - val_loss: 1964.5167 - val_mean_absolute_error: 43.1967\n",
      "Epoch 41/100\n",
      "7/7 [==============================] - 0s 9ms/step - loss: 399.4098 - mean_absolute_error: 15.9253 - val_loss: 2044.8187 - val_mean_absolute_error: 44.1164\n",
      "Epoch 42/100\n",
      "7/7 [==============================] - 0s 10ms/step - loss: 400.5465 - mean_absolute_error: 16.1083 - val_loss: 2111.4133 - val_mean_absolute_error: 44.8648\n",
      "Epoch 43/100\n",
      "7/7 [==============================] - 0s 8ms/step - loss: 401.0795 - mean_absolute_error: 16.2357 - val_loss: 2136.8975 - val_mean_absolute_error: 45.1479\n",
      "Epoch 44/100\n",
      "7/7 [==============================] - 0s 7ms/step - loss: 400.9588 - mean_absolute_error: 16.2561 - val_loss: 2133.2825 - val_mean_absolute_error: 45.1079\n",
      "Epoch 45/100\n",
      "7/7 [==============================] - 0s 8ms/step - loss: 400.8717 - mean_absolute_error: 16.2333 - val_loss: 2121.4104 - val_mean_absolute_error: 44.9761\n",
      "Epoch 46/100\n",
      "7/7 [==============================] - 0s 8ms/step - loss: 400.7567 - mean_absolute_error: 16.2204 - val_loss: 2121.2219 - val_mean_absolute_error: 44.9740\n",
      "Epoch 47/100\n",
      "7/7 [==============================] - 0s 9ms/step - loss: 400.6514 - mean_absolute_error: 16.2105 - val_loss: 2111.4780 - val_mean_absolute_error: 44.8656\n",
      "Epoch 48/100\n"
     ]
    },
    {
     "name": "stdout",
     "output_type": "stream",
     "text": [
      "7/7 [==============================] - 0s 8ms/step - loss: 400.4955 - mean_absolute_error: 16.1808 - val_loss: 2094.3181 - val_mean_absolute_error: 44.6744\n",
      "Epoch 49/100\n",
      "7/7 [==============================] - 0s 8ms/step - loss: 399.6607 - mean_absolute_error: 16.0899 - val_loss: 2022.7340 - val_mean_absolute_error: 43.8693\n",
      "Epoch 50/100\n",
      "7/7 [==============================] - 0s 9ms/step - loss: 398.8994 - mean_absolute_error: 15.9219 - val_loss: 1965.9119 - val_mean_absolute_error: 43.2173\n",
      "Epoch 51/100\n",
      "7/7 [==============================] - 0s 9ms/step - loss: 400.3890 - mean_absolute_error: 15.8502 - val_loss: 1962.2299 - val_mean_absolute_error: 43.1787\n",
      "Epoch 52/100\n",
      "7/7 [==============================] - 0s 8ms/step - loss: 399.0776 - mean_absolute_error: 15.9304 - val_loss: 2008.4609 - val_mean_absolute_error: 43.7084\n",
      "Epoch 53/100\n",
      "7/7 [==============================] - 0s 9ms/step - loss: 398.8300 - mean_absolute_error: 15.9640 - val_loss: 1999.5040 - val_mean_absolute_error: 43.6088\n",
      "Epoch 54/100\n",
      "7/7 [==============================] - 0s 8ms/step - loss: 398.3719 - mean_absolute_error: 15.8808 - val_loss: 1948.1407 - val_mean_absolute_error: 43.0191\n",
      "Epoch 55/100\n",
      "7/7 [==============================] - 0s 8ms/step - loss: 397.1946 - mean_absolute_error: 15.9087 - val_loss: 2009.3296 - val_mean_absolute_error: 43.7247\n",
      "Epoch 56/100\n",
      "7/7 [==============================] - 0s 9ms/step - loss: 396.1742 - mean_absolute_error: 15.9140 - val_loss: 1944.3872 - val_mean_absolute_error: 42.9785\n",
      "Epoch 57/100\n",
      "7/7 [==============================] - 0s 8ms/step - loss: 396.0540 - mean_absolute_error: 15.7852 - val_loss: 1928.3749 - val_mean_absolute_error: 42.7936\n",
      "Epoch 58/100\n",
      "7/7 [==============================] - 0s 8ms/step - loss: 395.8538 - mean_absolute_error: 15.8357 - val_loss: 1949.6104 - val_mean_absolute_error: 43.0446\n",
      "Epoch 59/100\n",
      "7/7 [==============================] - 0s 7ms/step - loss: 397.8240 - mean_absolute_error: 15.7516 - val_loss: 1900.9159 - val_mean_absolute_error: 42.4767\n",
      "Epoch 60/100\n",
      "7/7 [==============================] - 0s 8ms/step - loss: 392.6602 - mean_absolute_error: 15.7451 - val_loss: 1989.1963 - val_mean_absolute_error: 43.5060\n",
      "Epoch 61/100\n",
      "7/7 [==============================] - 0s 10ms/step - loss: 392.6812 - mean_absolute_error: 15.9297 - val_loss: 2039.4241 - val_mean_absolute_error: 44.0806\n",
      "Epoch 62/100\n",
      "7/7 [==============================] - 0s 7ms/step - loss: 392.3419 - mean_absolute_error: 15.9099 - val_loss: 1943.7384 - val_mean_absolute_error: 42.9906\n",
      "Epoch 63/100\n",
      "7/7 [==============================] - 0s 8ms/step - loss: 394.0118 - mean_absolute_error: 15.6324 - val_loss: 1911.0178 - val_mean_absolute_error: 42.6083\n",
      "Epoch 64/100\n",
      "7/7 [==============================] - 0s 7ms/step - loss: 392.1631 - mean_absolute_error: 15.8936 - val_loss: 2084.1343 - val_mean_absolute_error: 44.5911\n",
      "Epoch 65/100\n",
      "7/7 [==============================] - 0s 8ms/step - loss: 410.6778 - mean_absolute_error: 16.1676 - val_loss: 1966.7906 - val_mean_absolute_error: 43.2978\n",
      "Epoch 66/100\n",
      "7/7 [==============================] - 0s 7ms/step - loss: 393.0034 - mean_absolute_error: 16.1936 - val_loss: 2101.1072 - val_mean_absolute_error: 44.7860\n",
      "Epoch 67/100\n",
      "7/7 [==============================] - 0s 7ms/step - loss: 387.4852 - mean_absolute_error: 15.9149 - val_loss: 1924.5928 - val_mean_absolute_error: 42.7648\n",
      "Epoch 68/100\n",
      "7/7 [==============================] - 0s 8ms/step - loss: 386.3226 - mean_absolute_error: 15.6250 - val_loss: 1714.5736 - val_mean_absolute_error: 40.2769\n",
      "Epoch 69/100\n",
      "7/7 [==============================] - 0s 7ms/step - loss: 381.1450 - mean_absolute_error: 15.3621 - val_loss: 1954.9939 - val_mean_absolute_error: 43.1608\n",
      "Epoch 70/100\n",
      "7/7 [==============================] - 0s 8ms/step - loss: 382.9724 - mean_absolute_error: 15.9124 - val_loss: 1928.6490 - val_mean_absolute_error: 42.8688\n",
      "Epoch 71/100\n",
      "7/7 [==============================] - 0s 7ms/step - loss: 376.0546 - mean_absolute_error: 15.1371 - val_loss: 1784.0292 - val_mean_absolute_error: 41.1799\n",
      "Epoch 72/100\n",
      "7/7 [==============================] - 0s 5ms/step - loss: 370.5863 - mean_absolute_error: 15.5286 - val_loss: 1909.2433 - val_mean_absolute_error: 42.6591\n",
      "Epoch 73/100\n",
      "7/7 [==============================] - 0s 8ms/step - loss: 366.9100 - mean_absolute_error: 15.3350 - val_loss: 1518.6655 - val_mean_absolute_error: 37.8563\n",
      "Epoch 74/100\n",
      "7/7 [==============================] - 0s 7ms/step - loss: 356.9595 - mean_absolute_error: 14.8208 - val_loss: 1619.1769 - val_mean_absolute_error: 39.1868\n",
      "Epoch 75/100\n",
      "7/7 [==============================] - 0s 5ms/step - loss: 353.2449 - mean_absolute_error: 14.8869 - val_loss: 1347.9866 - val_mean_absolute_error: 35.5764\n",
      "Epoch 76/100\n",
      "7/7 [==============================] - 0s 7ms/step - loss: 363.1683 - mean_absolute_error: 14.6627 - val_loss: 2040.1719 - val_mean_absolute_error: 44.2127\n",
      "Epoch 77/100\n",
      "7/7 [==============================] - 0s 8ms/step - loss: 369.5401 - mean_absolute_error: 15.8962 - val_loss: 1803.9240 - val_mean_absolute_error: 41.4445\n",
      "Epoch 78/100\n",
      "7/7 [==============================] - 0s 7ms/step - loss: 363.3032 - mean_absolute_error: 14.9938 - val_loss: 1592.0607 - val_mean_absolute_error: 38.8510\n",
      "Epoch 79/100\n",
      "7/7 [==============================] - 0s 8ms/step - loss: 341.3190 - mean_absolute_error: 14.4508 - val_loss: 1578.0592 - val_mean_absolute_error: 38.7003\n",
      "Epoch 80/100\n",
      "7/7 [==============================] - 0s 8ms/step - loss: 345.3865 - mean_absolute_error: 14.9816 - val_loss: 1480.3322 - val_mean_absolute_error: 37.4150\n",
      "Epoch 81/100\n",
      "7/7 [==============================] - 0s 7ms/step - loss: 337.6393 - mean_absolute_error: 14.4323 - val_loss: 1496.3324 - val_mean_absolute_error: 37.6462\n",
      "Epoch 82/100\n",
      "7/7 [==============================] - 0s 8ms/step - loss: 328.7167 - mean_absolute_error: 14.3640 - val_loss: 1289.5300 - val_mean_absolute_error: 34.8004\n",
      "Epoch 83/100\n",
      "7/7 [==============================] - 0s 9ms/step - loss: 341.0633 - mean_absolute_error: 14.1078 - val_loss: 1851.6082 - val_mean_absolute_error: 42.1111\n",
      "Epoch 84/100\n",
      "7/7 [==============================] - 0s 8ms/step - loss: 343.2945 - mean_absolute_error: 15.3517 - val_loss: 1395.5536 - val_mean_absolute_error: 36.2971\n",
      "Epoch 85/100\n",
      "7/7 [==============================] - 0s 7ms/step - loss: 337.4831 - mean_absolute_error: 14.1214 - val_loss: 1637.1412 - val_mean_absolute_error: 39.5015\n",
      "Epoch 86/100\n",
      "7/7 [==============================] - 0s 5ms/step - loss: 331.6302 - mean_absolute_error: 15.0075 - val_loss: 1426.6406 - val_mean_absolute_error: 36.7383\n",
      "Epoch 87/100\n",
      "7/7 [==============================] - 0s 8ms/step - loss: 315.7850 - mean_absolute_error: 13.8575 - val_loss: 1405.8871 - val_mean_absolute_error: 36.4714\n",
      "Epoch 88/100\n",
      "7/7 [==============================] - 0s 9ms/step - loss: 314.3660 - mean_absolute_error: 14.1667 - val_loss: 1474.8990 - val_mean_absolute_error: 37.4367\n",
      "Epoch 89/100\n",
      "7/7 [==============================] - 0s 8ms/step - loss: 304.9820 - mean_absolute_error: 13.5627 - val_loss: 1360.9279 - val_mean_absolute_error: 35.9111\n",
      "Epoch 90/100\n",
      "7/7 [==============================] - 0s 9ms/step - loss: 305.4992 - mean_absolute_error: 14.3362 - val_loss: 1098.0282 - val_mean_absolute_error: 32.0788\n",
      "Epoch 91/100\n",
      "7/7 [==============================] - 0s 8ms/step - loss: 297.5562 - mean_absolute_error: 13.5102 - val_loss: 1519.3545 - val_mean_absolute_error: 38.0897\n",
      "Epoch 92/100\n",
      "7/7 [==============================] - 0s 9ms/step - loss: 288.4977 - mean_absolute_error: 13.7396 - val_loss: 1234.6803 - val_mean_absolute_error: 34.1672\n",
      "Epoch 93/100\n",
      "7/7 [==============================] - 0s 7ms/step - loss: 276.8375 - mean_absolute_error: 13.0513 - val_loss: 1175.3729 - val_mean_absolute_error: 33.3005\n",
      "Epoch 94/100\n",
      "7/7 [==============================] - 0s 8ms/step - loss: 273.4059 - mean_absolute_error: 13.1903 - val_loss: 1142.4504 - val_mean_absolute_error: 32.8125\n",
      "Epoch 95/100\n",
      "7/7 [==============================] - 0s 7ms/step - loss: 269.3415 - mean_absolute_error: 12.6924 - val_loss: 1457.1942 - val_mean_absolute_error: 37.3326\n",
      "Epoch 96/100\n"
     ]
    },
    {
     "name": "stdout",
     "output_type": "stream",
     "text": [
      "7/7 [==============================] - 0s 8ms/step - loss: 269.5013 - mean_absolute_error: 13.0567 - val_loss: 800.5290 - val_mean_absolute_error: 27.1516\n",
      "Epoch 97/100\n",
      "7/7 [==============================] - 0s 9ms/step - loss: 270.6982 - mean_absolute_error: 13.0903 - val_loss: 897.4807 - val_mean_absolute_error: 29.0065\n",
      "Epoch 98/100\n",
      "7/7 [==============================] - 0s 7ms/step - loss: 244.8942 - mean_absolute_error: 12.2854 - val_loss: 1184.9822 - val_mean_absolute_error: 33.5643\n",
      "Epoch 99/100\n",
      "7/7 [==============================] - ETA: 0s - loss: 277.6446 - mean_absolute_error: 13.53 - 0s 5ms/step - loss: 243.7130 - mean_absolute_error: 12.2931 - val_loss: 956.6429 - val_mean_absolute_error: 29.9607\n",
      "Epoch 100/100\n",
      "7/7 [==============================] - 0s 7ms/step - loss: 229.1511 - mean_absolute_error: 12.1486 - val_loss: 736.1024 - val_mean_absolute_error: 26.0437\n"
     ]
    },
    {
     "data": {
      "text/plain": [
       "<tensorflow.python.keras.callbacks.History at 0x1c9b7e438b0>"
      ]
     },
     "execution_count": 19,
     "metadata": {},
     "output_type": "execute_result"
    }
   ],
   "source": [
    "model = Sequential([layers.Input((3, 1)),\n",
    "                    layers.LSTM(64),\n",
    "                    layers.Dense(32, activation='relu'),\n",
    "                    layers.Dense(32, activation='relu'),\n",
    "                    layers.Dense(1)])\n",
    "\n",
    "model.compile(loss='mse', \n",
    "              optimizer=Adam(learning_rate=0.001),\n",
    "              metrics=['mean_absolute_error'])\n",
    "\n",
    "model.fit(X_train, y_train, validation_data=(X_val, y_val), epochs=100)"
   ]
  },
  {
   "cell_type": "code",
   "execution_count": 24,
   "id": "aac60595",
   "metadata": {},
   "outputs": [
    {
     "data": {
      "text/plain": [
       "<matplotlib.legend.Legend at 0x1c9bc6d6100>"
      ]
     },
     "execution_count": 24,
     "metadata": {},
     "output_type": "execute_result"
    },
    {
     "data": {
      "image/png": "[encoded data removed]",
      "text/plain": [
       "<Figure size 432x288 with 1 Axes>"
      ]
     },
     "metadata": {
      "needs_background": "light"
     },
     "output_type": "display_data"
    }
   ],
   "source": [
    "#plot for training predictions and training observations\n",
    "train_predictions = model.predict(X_train).flatten()\n",
    "\n",
    "plt.plot(dates_train, train_predictions)\n",
    "plt.plot(dates_train, y_train)\n",
    "plt.legend(['Training Predictions', 'Training Observations'])"
   ]
  },
  {
   "cell_type": "code",
   "execution_count": 25,
   "id": "c21d341c",
   "metadata": {},
   "outputs": [
    {
     "data": {
      "text/plain": [
       "<matplotlib.legend.Legend at 0x1c9bc73a670>"
      ]
     },
     "execution_count": 25,
     "metadata": {},
     "output_type": "execute_result"
    },
    {
     "data": {
      "image/png": "[encoded data removed]",
      "text/plain": [
       "<Figure size 432x288 with 1 Axes>"
      ]
     },
     "metadata": {
      "needs_background": "light"
     },
     "output_type": "display_data"
    }
   ],
   "source": [
    "#plot for validation predictions and validation observations\n",
    "val_predictions = model.predict(X_val).flatten()\n",
    "\n",
    "plt.plot(dates_val, val_predictions)\n",
    "plt.plot(dates_val, y_val)\n",
    "plt.legend(['Validation Predictions', 'Validation Observations'])"
   ]
  },
  {
   "cell_type": "code",
   "execution_count": 26,
   "id": "848fbeea",
   "metadata": {},
   "outputs": [
    {
     "data": {
      "text/plain": [
       "<matplotlib.legend.Legend at 0x1c9bc7a5970>"
      ]
     },
     "execution_count": 26,
     "metadata": {},
     "output_type": "execute_result"
    },
    {
     "data": {
      "image/png": "[encoded data removed]",
      "text/plain": [
       "<Figure size 432x288 with 1 Axes>"
      ]
     },
     "metadata": {
      "needs_background": "light"
     },
     "output_type": "display_data"
    }
   ],
   "source": [
    "#plot for testing predictions and testing observations\n",
    "test_predictions = model.predict(X_test).flatten()\n",
    "\n",
    "plt.plot(dates_test, test_predictions)\n",
    "plt.plot(dates_test, y_test)\n",
    "plt.legend(['Testing Predictions', 'Testing Observations'])"
   ]
  },
  {
   "cell_type": "code",
   "execution_count": 27,
   "id": "196f6dbc",
   "metadata": {},
   "outputs": [
    {
     "data": {
      "text/plain": [
       "<matplotlib.legend.Legend at 0x1c9bc623190>"
      ]
     },
     "execution_count": 27,
     "metadata": {},
     "output_type": "execute_result"
    },
    {
     "data": {
      "image/png": "[encoded data removed]",
      "text/plain": [
       "<Figure size 432x288 with 1 Axes>"
      ]
     },
     "metadata": {
      "needs_background": "light"
     },
     "output_type": "display_data"
    }
   ],
   "source": [
    "plt.plot(dates_train, train_predictions)\n",
    "plt.plot(dates_train, y_train)\n",
    "plt.plot(dates_val, val_predictions)\n",
    "plt.plot(dates_val, y_val)\n",
    "plt.plot(dates_test, test_predictions)\n",
    "plt.plot(dates_test, y_test)\n",
    "plt.legend(['Training Predictions', \n",
    "            'Training Observations',\n",
    "            'Validation Predictions', \n",
    "            'Validation Observations',\n",
    "            'Testing Predictions', \n",
    "            'Testing Observations'])"
   ]
  },
  {
   "cell_type": "code",
   "execution_count": 28,
   "id": "dd4bfa61",
   "metadata": {},
   "outputs": [],
   "source": [
    "from copy import deepcopy\n",
    "\n",
    "recursive_predictions = []\n",
    "recursive_dates = np.concatenate([dates_val, dates_test])\n",
    "\n",
    "for target_date in recursive_dates:\n",
    "  last_window = deepcopy(X_train[-1])\n",
    "  next_prediction = model.predict(np.array([last_window])).flatten()\n",
    "  recursive_predictions.append(next_prediction)\n",
    "  last_window[-1] = next_prediction"
   ]
  },
  {
   "cell_type": "code",
   "execution_count": 29,
   "id": "50ac3b55",
   "metadata": {},
   "outputs": [
    {
     "data": {
      "text/plain": [
       "<matplotlib.legend.Legend at 0x1c9bc7f1a60>"
      ]
     },
     "execution_count": 29,
     "metadata": {},
     "output_type": "execute_result"
    },
    {
     "data": {
      "image/png": "[encoded data removed]",
      "text/plain": [
       "<Figure size 432x288 with 1 Axes>"
      ]
     },
     "metadata": {
      "needs_background": "light"
     },
     "output_type": "display_data"
    }
   ],
   "source": [
    "plt.plot(dates_train, train_predictions)\n",
    "plt.plot(dates_train, y_train)\n",
    "plt.plot(dates_val, val_predictions)\n",
    "plt.plot(dates_val, y_val)\n",
    "plt.plot(dates_test, test_predictions)\n",
    "plt.plot(dates_test, y_test)\n",
    "plt.plot(recursive_dates, recursive_predictions)\n",
    "plt.legend(['Training Predictions', \n",
    "            'Training Observations',\n",
    "            'Validation Predictions', \n",
    "            'Validation Observations',\n",
    "            'Testing Predictions', \n",
    "            'Testing Observations',\n",
    "            'Recursive Predictions'])"
   ]
  },
  {
   "cell_type": "code",
   "execution_count": null,
   "id": "b5fac39d",
   "metadata": {},
   "outputs": [],
   "source": []
  }
 ],
 "metadata": {
  "kernelspec": {
   "display_name": "Python 3",
   "language": "python",
   "name": "python3"
  },
  "language_info": {
   "codemirror_mode": {
    "name": "ipython",
    "version": 3
   },
   "file_extension": ".py",
   "mimetype": "text/x-python",
   "name": "python",
   "nbconvert_exporter": "python",
   "pygments_lexer": "ipython3",
   "version": "3.8.8"
  }
 },
 "nbformat": 4,
 "nbformat_minor": 5
}
